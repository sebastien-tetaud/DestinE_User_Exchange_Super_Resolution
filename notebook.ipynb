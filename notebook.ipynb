{
 "cells": [
  {
   "cell_type": "markdown",
   "metadata": {},
   "source": [
    "#  Deep Learning for Super Resolution on DestinE Climate Data"
   ]
  },
  {
   "cell_type": "markdown",
   "metadata": {},
   "source": [
    "Destine Login"
   ]
  },
  {
   "cell_type": "code",
   "execution_count": 1,
   "metadata": {},
   "outputs": [],
   "source": [
    "%%capture cap\n",
    "%run auth/cacheb-authentication.py"
   ]
  },
  {
   "cell_type": "code",
   "execution_count": 2,
   "metadata": {},
   "outputs": [],
   "source": [
    "output_1 = cap.stdout.split('}\\n')\n",
    "token = output_1[-1][0:-1]\n",
    "\n",
    "from pathlib import Path\n",
    "with open(Path.home() / \".netrc\", \"a\") as fp:\n",
    "    fp.write(token)"
   ]
  },
  {
   "cell_type": "markdown",
   "metadata": {},
   "source": [
    "### Import dependencies"
   ]
  },
  {
   "cell_type": "code",
   "execution_count": 14,
   "metadata": {},
   "outputs": [],
   "source": [
    "import warnings\n",
    "import torch\n",
    "import lightning as L\n",
    "import numpy as np\n",
    "from torch.utils.data import DataLoader\n",
    "from sklearn.model_selection import train_test_split\n",
    "from lightning.pytorch import seed_everything\n",
    "from lightning.pytorch.callbacks import ModelCheckpoint\n",
    "from utils.general import (get_bbox_from_config,\n",
    "                           load_config, compute_mean_std,\n",
    "                           create_gif_from_images,\n",
    "                           save_best_model_as_pt,\n",
    "                           save_config_to_log_dir)\n",
    "from data.loaders import load_data\n",
    "from data.datasets import CreateDataset, StreamCreateDataset\n",
    "import models.models as models\n",
    "from trainer import TrainerSr\n",
    "# Ignore warnings and set precision\n",
    "warnings.filterwarnings(\"ignore\")\n",
    "torch.set_float32_matmul_precision('high')"
   ]
  },
  {
   "cell_type": "markdown",
   "metadata": {},
   "source": [
    "### 1. Load Configuration"
   ]
  },
  {
   "cell_type": "code",
   "execution_count": 15,
   "metadata": {},
   "outputs": [
    {
     "name": "stderr",
     "output_type": "stream",
     "text": [
      "INFO: Seed set to 42\n"
     ]
    },
    {
     "data": {
      "text/plain": [
       "42"
      ]
     },
     "execution_count": 15,
     "metadata": {},
     "output_type": "execute_result"
    }
   ],
   "source": [
    "# Load configuration and set seed\n",
    "config = load_config()\n",
    "seed_everything(config[\"training\"][\"seed\"], workers=True)"
   ]
  },
  {
   "cell_type": "markdown",
   "metadata": {},
   "source": [
    "### 2. Load Data and Compute Statistics\n"
   ]
  },
  {
   "cell_type": "code",
   "execution_count": 16,
   "metadata": {},
   "outputs": [
    {
     "name": "stdout",
     "output_type": "stream",
     "text": [
      "HR mean: 10.094209671020508, HR std: 4.23423957824707\n",
      "LR mean: 10.007193565368652, LR std: 4.303609371185303\n"
     ]
    }
   ],
   "source": [
    "# Load bounding box and data\n",
    "bbox = get_bbox_from_config(config=config)\n",
    "lr, hr = load_data(config=config)\n",
    "\n",
    "# Compute mean and standard deviation for normalization\n",
    "hr_mean, hr_std = compute_mean_std(hr)\n",
    "lr_mean, lr_std = compute_mean_std(lr)\n",
    "\n",
    "# Update config with computed mean and std\n",
    "config[\"dataset\"][\"hr_mean\"] = hr_mean\n",
    "config[\"dataset\"][\"hr_std\"] = hr_std\n",
    "config[\"dataset\"][\"lr_mean\"] = lr_mean\n",
    "config[\"dataset\"][\"lr_std\"] = lr_std\n",
    "\n",
    "# Display computed statistics\n",
    "print(f\"HR mean: {hr_mean}, HR std: {hr_std}\")\n",
    "print(f\"LR mean: {lr_mean}, LR std: {lr_std}\")"
   ]
  },
  {
   "cell_type": "markdown",
   "metadata": {},
   "source": [
    "### 3. Split Data into Train, Validation, and Test Sets"
   ]
  },
  {
   "cell_type": "code",
   "execution_count": 17,
   "metadata": {},
   "outputs": [
    {
     "name": "stdout",
     "output_type": "stream",
     "text": [
      "Train samples: 520\n",
      "Validation samples: 156\n",
      "Test samples: 68\n"
     ]
    }
   ],
   "source": [
    "# Split indices for train, validation, and test sets\n",
    "batch_size = config['training']['batch_size']\n",
    "time_indices = np.arange(len(hr.time.values))\n",
    "\n",
    "train_indices, remaining_indices = train_test_split(\n",
    "    time_indices, train_size=0.70, shuffle=True, random_state=config[\"training\"][\"seed\"]\n",
    ")\n",
    "val_indices, test_indices = train_test_split(\n",
    "    remaining_indices, test_size=config[\"validation\"][\"val_split_ratio\"], shuffle=False, random_state=config[\"training\"][\"seed\"]\n",
    ")\n",
    "\n",
    "# Split datasets into train, validation, and test sets\n",
    "train_lr, train_hr = lr.isel(time=train_indices), hr.isel(time=train_indices)\n",
    "val_lr, val_hr = lr.isel(time=val_indices), hr.isel(time=val_indices)\n",
    "test_lr, test_hr = lr.isel(time=test_indices), hr.isel(time=test_indices)\n",
    "\n",
    "# Print dataset sizes\n",
    "print(f\"Train samples: {len(train_hr.time.values)}\")\n",
    "print(f\"Validation samples: {len(val_hr.time.values)}\")\n",
    "print(f\"Test samples: {len(test_hr.time.values)}\")\n"
   ]
  },
  {
   "cell_type": "markdown",
   "metadata": {},
   "source": [
    "### 4. Create DataLoader"
   ]
  },
  {
   "cell_type": "code",
   "execution_count": 18,
   "metadata": {},
   "outputs": [],
   "source": [
    "# Create DataLoader based on streaming preference\n",
    "if config[\"training\"][\"streaming\"]:\n",
    "    train_loader = StreamCreateDataset(hr_data=train_hr, lr_data=train_lr, hr_mean=hr_mean, hr_std=hr_std,\n",
    "                                       lr_mean=lr_mean, lr_std=lr_std, batch_size=batch_size)\n",
    "    val_loader = StreamCreateDataset(hr_data=val_hr, lr_data=val_lr, hr_mean=hr_mean, hr_std=hr_std,\n",
    "                                     lr_mean=lr_mean, lr_std=lr_std, batch_size=batch_size)\n",
    "    test_loader = StreamCreateDataset(hr_data=test_hr, lr_data=test_lr, hr_mean=hr_mean, hr_std=hr_std,\n",
    "                                      lr_mean=lr_mean, lr_std=lr_std, batch_size=batch_size)\n",
    "else:\n",
    "    train_dataset = CreateDataset(hr_data=train_hr, lr_data=train_lr, hr_mean=hr_mean, hr_std=hr_std,\n",
    "                                  lr_mean=lr_mean, lr_std=lr_std)\n",
    "    val_dataset = CreateDataset(hr_data=val_hr, lr_data=val_lr, hr_mean=hr_mean, hr_std=hr_std,\n",
    "                                lr_mean=lr_mean, lr_std=lr_std)\n",
    "    test_dataset = CreateDataset(hr_data=test_hr, lr_data=test_lr, hr_mean=hr_mean, hr_std=hr_std,\n",
    "                                 lr_mean=lr_mean, lr_std=lr_std)\n",
    "\n",
    "    train_loader = DataLoader(train_dataset, batch_size=batch_size, shuffle=False, num_workers=14)\n",
    "    val_loader = DataLoader(val_dataset, batch_size=batch_size, shuffle=False, num_workers=14)\n",
    "    test_loader = DataLoader(test_dataset, batch_size=batch_size, shuffle=False, num_workers=14)\n"
   ]
  },
  {
   "cell_type": "markdown",
   "metadata": {},
   "source": [
    "### 5. Initialize Model\n"
   ]
  },
  {
   "cell_type": "code",
   "execution_count": 19,
   "metadata": {},
   "outputs": [],
   "source": [
    "# Initialize SRResNet model based on config\n",
    "sr_model = getattr(models, config[\"model\"][\"architecture\"])\n",
    "sr_model = sr_model(\n",
    "    large_kernel_size=config[\"model\"][\"large_kernel_size\"],\n",
    "    small_kernel_size=config[\"model\"][\"small_kernel_size\"],\n",
    "    n_channels=config[\"model\"][\"n_channels\"],\n",
    "    n_blocks=config[\"model\"][\"n_blocks\"],\n",
    "    scaling_factor=config[\"model\"][\"scaling_factor\"]\n",
    ")\n",
    "\n",
    "# Wrap model in TrainerSr class\n",
    "model = TrainerSr(config=config, model=sr_model)"
   ]
  },
  {
   "cell_type": "markdown",
   "metadata": {},
   "source": [
    "### 6. Set Up Checkpointing and Trainer\n"
   ]
  },
  {
   "cell_type": "code",
   "execution_count": 20,
   "metadata": {},
   "outputs": [
    {
     "name": "stderr",
     "output_type": "stream",
     "text": [
      "INFO: GPU available: True (cuda), used: True\n",
      "INFO: TPU available: False, using: 0 TPU cores\n",
      "INFO: HPU available: False, using: 0 HPUs\n"
     ]
    }
   ],
   "source": [
    "# Define checkpoint callback\n",
    "checkpoint_val_ssim = ModelCheckpoint(\n",
    "    monitor=config['checkpoint']['monitor'], filename=\"best-val-ssim-{epoch:02d}-{val_ssim:.2f}\",\n",
    "    save_top_k=1, mode=config['checkpoint']['mode']\n",
    ")\n",
    "\n",
    "# Set up the PyTorch Lightning Trainer\n",
    "trainer = L.Trainer(\n",
    "    devices=config[\"training\"][\"devices\"],\n",
    "    max_epochs=config[\"training\"][\"epochs\"],\n",
    "    accelerator=config[\"training\"][\"accelerator\"],\n",
    "    deterministic=config[\"training\"][\"deterministic\"],\n",
    "    callbacks=[checkpoint_val_ssim],\n",
    ")\n"
   ]
  },
  {
   "cell_type": "markdown",
   "metadata": {},
   "source": [
    "### 7. Train the Model\n"
   ]
  },
  {
   "cell_type": "code",
   "execution_count": 21,
   "metadata": {},
   "outputs": [
    {
     "name": "stderr",
     "output_type": "stream",
     "text": [
      "INFO: LOCAL_RANK: 0 - CUDA_VISIBLE_DEVICES: [0]\n",
      "INFO: \n",
      "  | Name  | Type                              | Params | Mode \n",
      "--------------------------------------------------------------------\n",
      "0 | model | SRResNet                          | 1.7 M  | train\n",
      "1 | psnr  | _PeakSignalNoiseRatio             | 0      | train\n",
      "2 | ssim  | _StructuralSimilarityIndexMeasure | 0      | train\n",
      "--------------------------------------------------------------------\n",
      "1.7 M     Trainable params\n",
      "0         Non-trainable params\n",
      "1.7 M     Total params\n",
      "6.706     Total estimated model params size (MB)\n",
      "189       Modules in train mode\n",
      "0         Modules in eval mode\n"
     ]
    },
    {
     "data": {
      "application/vnd.jupyter.widget-view+json": {
       "model_id": "99b2cdef50bd463484372a1e0dcf6009",
       "version_major": 2,
       "version_minor": 0
      },
      "text/plain": [
       "Sanity Checking: |          | 0/? [00:00<?, ?it/s]"
      ]
     },
     "metadata": {},
     "output_type": "display_data"
    },
    {
     "data": {
      "application/vnd.jupyter.widget-view+json": {
       "model_id": "8a5708bd10654cc8bd3c4ef0a7a4803b",
       "version_major": 2,
       "version_minor": 0
      },
      "text/plain": [
       "Training: |          | 0/? [00:00<?, ?it/s]"
      ]
     },
     "metadata": {},
     "output_type": "display_data"
    },
    {
     "data": {
      "application/vnd.jupyter.widget-view+json": {
       "model_id": "a5953dc741ff498da255318816db8450",
       "version_major": 2,
       "version_minor": 0
      },
      "text/plain": [
       "Validation: |          | 0/? [00:00<?, ?it/s]"
      ]
     },
     "metadata": {},
     "output_type": "display_data"
    },
    {
     "data": {
      "application/vnd.jupyter.widget-view+json": {
       "model_id": "a6cfd5cae36c478dbfdd594d015d32d0",
       "version_major": 2,
       "version_minor": 0
      },
      "text/plain": [
       "Validation: |          | 0/? [00:00<?, ?it/s]"
      ]
     },
     "metadata": {},
     "output_type": "display_data"
    },
    {
     "data": {
      "application/vnd.jupyter.widget-view+json": {
       "model_id": "c9d206c630554a16b979d896ed2f0cb2",
       "version_major": 2,
       "version_minor": 0
      },
      "text/plain": [
       "Validation: |          | 0/? [00:00<?, ?it/s]"
      ]
     },
     "metadata": {},
     "output_type": "display_data"
    },
    {
     "data": {
      "application/vnd.jupyter.widget-view+json": {
       "model_id": "eba92e25730948a7893575884934a548",
       "version_major": 2,
       "version_minor": 0
      },
      "text/plain": [
       "Validation: |          | 0/? [00:00<?, ?it/s]"
      ]
     },
     "metadata": {},
     "output_type": "display_data"
    },
    {
     "data": {
      "application/vnd.jupyter.widget-view+json": {
       "model_id": "9d4ce2a98aef4362bab3ac6bdd6947dd",
       "version_major": 2,
       "version_minor": 0
      },
      "text/plain": [
       "Validation: |          | 0/? [00:00<?, ?it/s]"
      ]
     },
     "metadata": {},
     "output_type": "display_data"
    },
    {
     "data": {
      "application/vnd.jupyter.widget-view+json": {
       "model_id": "769b0ebcb8b249b39437b67c6981d01a",
       "version_major": 2,
       "version_minor": 0
      },
      "text/plain": [
       "Validation: |          | 0/? [00:00<?, ?it/s]"
      ]
     },
     "metadata": {},
     "output_type": "display_data"
    },
    {
     "data": {
      "application/vnd.jupyter.widget-view+json": {
       "model_id": "495d0406d82b4f86b152d155a2c44a61",
       "version_major": 2,
       "version_minor": 0
      },
      "text/plain": [
       "Validation: |          | 0/? [00:00<?, ?it/s]"
      ]
     },
     "metadata": {},
     "output_type": "display_data"
    },
    {
     "data": {
      "application/vnd.jupyter.widget-view+json": {
       "model_id": "3bb8bfe247cc4f6b9f2eba8e37ef4b5d",
       "version_major": 2,
       "version_minor": 0
      },
      "text/plain": [
       "Validation: |          | 0/? [00:00<?, ?it/s]"
      ]
     },
     "metadata": {},
     "output_type": "display_data"
    },
    {
     "data": {
      "application/vnd.jupyter.widget-view+json": {
       "model_id": "fd1ff5c834a34248bb9855ce1468e6d7",
       "version_major": 2,
       "version_minor": 0
      },
      "text/plain": [
       "Validation: |          | 0/? [00:00<?, ?it/s]"
      ]
     },
     "metadata": {},
     "output_type": "display_data"
    },
    {
     "data": {
      "application/vnd.jupyter.widget-view+json": {
       "model_id": "5a0dee4e2132455f9f8671d37d82c94a",
       "version_major": 2,
       "version_minor": 0
      },
      "text/plain": [
       "Validation: |          | 0/? [00:00<?, ?it/s]"
      ]
     },
     "metadata": {},
     "output_type": "display_data"
    },
    {
     "name": "stderr",
     "output_type": "stream",
     "text": [
      "INFO: `Trainer.fit` stopped: `max_epochs=10` reached.\n"
     ]
    }
   ],
   "source": [
    "# Train the model\n",
    "trainer.fit(model, train_loader, val_loader)"
   ]
  },
  {
   "cell_type": "markdown",
   "metadata": {},
   "source": [
    "### 8. Evaluate and Test the Model\n"
   ]
  },
  {
   "cell_type": "code",
   "execution_count": 22,
   "metadata": {},
   "outputs": [
    {
     "name": "stderr",
     "output_type": "stream",
     "text": [
      "INFO: LOCAL_RANK: 0 - CUDA_VISIBLE_DEVICES: [0]\n"
     ]
    },
    {
     "data": {
      "application/vnd.jupyter.widget-view+json": {
       "model_id": "2b1f92af4e4d4fd8aa942f9929ce26a0",
       "version_major": 2,
       "version_minor": 0
      },
      "text/plain": [
       "Testing: |          | 0/? [00:00<?, ?it/s]"
      ]
     },
     "metadata": {},
     "output_type": "display_data"
    },
    {
     "data": {
      "text/html": [
       "<pre style=\"white-space:pre;overflow-x:auto;line-height:normal;font-family:Menlo,'DejaVu Sans Mono',consolas,'Courier New',monospace\">┏━━━━━━━━━━━━━━━━━━━━━━━━━━━┳━━━━━━━━━━━━━━━━━━━━━━━━━━━┓\n",
       "┃<span style=\"font-weight: bold\">        Test metric        </span>┃<span style=\"font-weight: bold\">       DataLoader 0        </span>┃\n",
       "┡━━━━━━━━━━━━━━━━━━━━━━━━━━━╇━━━━━━━━━━━━━━━━━━━━━━━━━━━┩\n",
       "│<span style=\"color: #008080; text-decoration-color: #008080\">         test_loss         </span>│<span style=\"color: #800080; text-decoration-color: #800080\">    0.5218148231506348     </span>│\n",
       "│<span style=\"color: #008080; text-decoration-color: #008080\">         test_psnr         </span>│<span style=\"color: #800080; text-decoration-color: #800080\">    21.468219757080078     </span>│\n",
       "│<span style=\"color: #008080; text-decoration-color: #008080\">         test_ssim         </span>│<span style=\"color: #800080; text-decoration-color: #800080\">    0.5221145153045654     </span>│\n",
       "└───────────────────────────┴───────────────────────────┘\n",
       "</pre>\n"
      ],
      "text/plain": [
       "┏━━━━━━━━━━━━━━━━━━━━━━━━━━━┳━━━━━━━━━━━━━━━━━━━━━━━━━━━┓\n",
       "┃\u001b[1m \u001b[0m\u001b[1m       Test metric       \u001b[0m\u001b[1m \u001b[0m┃\u001b[1m \u001b[0m\u001b[1m      DataLoader 0       \u001b[0m\u001b[1m \u001b[0m┃\n",
       "┡━━━━━━━━━━━━━━━━━━━━━━━━━━━╇━━━━━━━━━━━━━━━━━━━━━━━━━━━┩\n",
       "│\u001b[36m \u001b[0m\u001b[36m        test_loss        \u001b[0m\u001b[36m \u001b[0m│\u001b[35m \u001b[0m\u001b[35m   0.5218148231506348    \u001b[0m\u001b[35m \u001b[0m│\n",
       "│\u001b[36m \u001b[0m\u001b[36m        test_psnr        \u001b[0m\u001b[36m \u001b[0m│\u001b[35m \u001b[0m\u001b[35m   21.468219757080078    \u001b[0m\u001b[35m \u001b[0m│\n",
       "│\u001b[36m \u001b[0m\u001b[36m        test_ssim        \u001b[0m\u001b[36m \u001b[0m│\u001b[35m \u001b[0m\u001b[35m   0.5221145153045654    \u001b[0m\u001b[35m \u001b[0m│\n",
       "└───────────────────────────┴───────────────────────────┘\n"
      ]
     },
     "metadata": {},
     "output_type": "display_data"
    },
    {
     "data": {
      "text/plain": [
       "[{'test_loss': 0.5218148231506348,\n",
       "  'test_psnr': 21.468219757080078,\n",
       "  'test_ssim': 0.5221145153045654}]"
      ]
     },
     "execution_count": 22,
     "metadata": {},
     "output_type": "execute_result"
    }
   ],
   "source": [
    "# Load best model checkpoint\n",
    "best_model_path = checkpoint_val_ssim.best_model_path\n",
    "checkpoint = torch.load(best_model_path)\n",
    "model.load_state_dict(checkpoint[\"state_dict\"])\n",
    "\n",
    "# Test the model\n",
    "trainer.test(model, test_loader)"
   ]
  },
  {
   "cell_type": "markdown",
   "metadata": {},
   "source": [
    "### 9. Visualize Results and Save Model\n"
   ]
  },
  {
   "cell_type": "code",
   "execution_count": 23,
   "metadata": {},
   "outputs": [
    {
     "name": "stdout",
     "output_type": "stream",
     "text": [
      "GIF saved at /home/ubuntu/project/DestinE_User_Exchange_Super_Resolution/lightning_logs/version_3/val_prediction/training_progress.gif\n",
      "Best checkpoint path: /home/ubuntu/project/DestinE_User_Exchange_Super_Resolution/lightning_logs/version_3/checkpoints/best-val-ssim-epoch=07-val_ssim=0.51.ckpt\n",
      "Best model saved as: /home/ubuntu/project/DestinE_User_Exchange_Super_Resolution/lightning_logs/version_3/checkpoints/best-val-ssim-epoch=07-val_ssim=0.51.pt\n",
      "Configuration file saved to: /home/ubuntu/project/DestinE_User_Exchange_Super_Resolution/lightning_logs/version_3/config.json\n"
     ]
    }
   ],
   "source": [
    "# Generate visualizations and create GIF\n",
    "create_gif_from_images(trainer=trainer)\n",
    "\n",
    "# Save best model as .pt file\n",
    "_ = save_best_model_as_pt(checkpoint_val_ssim, sr_model)\n",
    "\n",
    "# Save config to log directory\n",
    "save_config_to_log_dir(log_dir_path=trainer.log_dir, config=config)"
   ]
  },
  {
   "cell_type": "markdown",
   "metadata": {},
   "source": [
    "### 10. Inference"
   ]
  }
 ],
 "metadata": {
  "kernelspec": {
   "display_name": "exp",
   "language": "python",
   "name": "python3"
  },
  "language_info": {
   "codemirror_mode": {
    "name": "ipython",
    "version": 3
   },
   "file_extension": ".py",
   "mimetype": "text/x-python",
   "name": "python",
   "nbconvert_exporter": "python",
   "pygments_lexer": "ipython3",
   "version": "3.12.2"
  }
 },
 "nbformat": 4,
 "nbformat_minor": 2
}
